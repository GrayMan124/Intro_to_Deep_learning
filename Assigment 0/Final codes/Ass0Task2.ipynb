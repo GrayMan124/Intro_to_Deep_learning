{
 "cells": [
  {
   "cell_type": "code",
   "execution_count": 1,
   "id": "c5f49328-f9dc-4d4b-b9b9-74e1fa6fcaa3",
   "metadata": {},
   "outputs": [],
   "source": [
    "import numpy as np\n",
    "import pandas as pd\n",
    "import matplotlib.pyplot as plt"
   ]
  },
  {
   "cell_type": "code",
   "execution_count": 2,
   "id": "7ac53824-d4c0-4ba1-9574-7acce10955d2",
   "metadata": {},
   "outputs": [],
   "source": [
    "train_in = pd.read_csv('train_in.csv')\n",
    "train_out = pd.read_csv('train_out.csv')"
   ]
  },
  {
   "cell_type": "code",
   "execution_count": 3,
   "id": "7ab791a9-d54e-45e3-b192-aa69c9285c12",
   "metadata": {},
   "outputs": [],
   "source": [
    "class Perceptron_net:\n",
    "    def __init__(self,input_dim, output_dim):\n",
    "        self.weights = np.random.rand(input_dim + 1,output_dim)\n",
    "        \n",
    "    def forward(self,x):\n",
    "        return np.column_stack((np.ones([x.shape[0]]),x)) @ self.weights\n",
    "\n",
    "    def predict(self, x):\n",
    "        return np.concatenate((np.ones(1),x)) @ self.weights \n",
    "\n",
    "    def fit(self,x,y,learning_rate = 1):\n",
    "        # Getting the predictions for train set\n",
    "        predictions = np.argmax(self.forward(x),axis = 1)\n",
    "        # Getting an array where we have the indexes of wrongly predicted inputs\n",
    "        wrong_examples = np.where(predictions != y.squeeze())[0].squeeze()\n",
    "\n",
    "        # Until we have any wrong example\n",
    "        while wrong_examples.size != 0:\n",
    "            for i in wrong_examples: \n",
    "                #Getting a prediction for one of the first \n",
    "                predictions = self.predict(x.iloc[i])\n",
    "                y_p = np.argmax(predictions)\n",
    "                y_tmp  = y.iloc[i]['6']\n",
    "                # comparison to the label from train_out\n",
    "                if y_p != y_tmp:\n",
    "                    # If it's still wrong, update the weights according to the algorithm\n",
    "                    for j in range(10):\n",
    "                        if predictions[j] > predictions[y_tmp]:\n",
    "                            self.weights[:,j] = self.weights[:,j] - learning_rate*np.concatenate((np.ones(1),x.iloc[i]))\n",
    "                        elif j == y_tmp:\n",
    "                            self.weights[:,j] = self.weights[:,j] + learning_rate*np.concatenate((np.ones(1),x.iloc[i]))\n",
    "            # After the for function, we check if every example is right, and create an array with indexes of wrongly predicted examples\n",
    "            predictions = np.argmax(self.forward(x),axis = 1)\n",
    "            wrong_examples = np.where(predictions != y.squeeze())[0]\n",
    "\n",
    "            # This is just a technical thing, when there is only 1 wrong example, the for function cannot iterate on it,\n",
    "            #  so we squeeze only if the size of the array of wrong examples is longer than 1\n",
    "            if wrong_examples.size != 1:\n",
    "                wrong_examples = wrong_examples.squeeze()"
   ]
  },
  {
   "cell_type": "markdown",
   "id": "09aa68b9-1c1d-4c55-ae0b-5039b8c08f12",
   "metadata": {},
   "source": [
    "Creating the Model"
   ]
  },
  {
   "cell_type": "code",
   "execution_count": 9,
   "id": "de290a3e-8553-47ef-a2a5-df31fe5c5ef5",
   "metadata": {},
   "outputs": [],
   "source": [
    "model = Perceptron_net(256,10)"
   ]
  },
  {
   "cell_type": "markdown",
   "id": "c831bc57-adf0-4740-9a30-e8bb7cede5df",
   "metadata": {},
   "source": [
    "Fitting the model"
   ]
  },
  {
   "cell_type": "code",
   "execution_count": 10,
   "id": "974d5ee1-0757-42e9-9631-345029699f39",
   "metadata": {},
   "outputs": [
    {
     "name": "stdout",
     "output_type": "stream",
     "text": [
      "CPU times: total: 1.06 s\n",
      "Wall time: 2.11 s\n"
     ]
    }
   ],
   "source": [
    "%%time\n",
    "model.fit(train_in, train_out)"
   ]
  },
  {
   "cell_type": "markdown",
   "id": "a4fa8729-c2c3-4452-9d5c-6615755c0fe2",
   "metadata": {},
   "source": [
    "Checking the accuracy of the model on the train set (we should get 100%)"
   ]
  },
  {
   "cell_type": "code",
   "execution_count": 11,
   "id": "d9f52e35-6511-4ed5-947a-975cc6bb3d86",
   "metadata": {},
   "outputs": [
    {
     "data": {
      "text/plain": [
       "1.0"
      ]
     },
     "execution_count": 11,
     "metadata": {},
     "output_type": "execute_result"
    }
   ],
   "source": [
    "out = np.argmax(model.forward(train_in),axis = 1)\n",
    "sq = train_out.squeeze()\n",
    "tmp = np.array(sq == out).astype(int)\n",
    "np.sum(tmp)/tmp.shape[0]\n",
    "# out == train_out[:]"
   ]
  },
  {
   "cell_type": "markdown",
   "id": "1e4af618-1569-4683-a0b4-a8d3d7792a89",
   "metadata": {},
   "source": [
    "Testing the model on the test set"
   ]
  },
  {
   "cell_type": "code",
   "execution_count": 12,
   "id": "a20b1a5d-89b2-4409-b354-96c06134f468",
   "metadata": {},
   "outputs": [],
   "source": [
    "test_in = pd.read_csv('test_in.csv')\n",
    "test_out = pd.read_csv('test_out.csv')"
   ]
  },
  {
   "cell_type": "code",
   "execution_count": 13,
   "id": "39d2df66-a9cb-4a17-952c-d6ff93f729be",
   "metadata": {},
   "outputs": [
    {
     "data": {
      "text/plain": [
       "0.8788788788788788"
      ]
     },
     "execution_count": 13,
     "metadata": {},
     "output_type": "execute_result"
    }
   ],
   "source": [
    "out = np.argmax(model.forward(test_in),axis = 1)\n",
    "sq = test_out.squeeze()\n",
    "tmp = np.array(sq == out).astype(int)\n",
    "np.sum(tmp)/tmp.shape[0]"
   ]
  },
  {
   "cell_type": "code",
   "execution_count": 14,
   "id": "6a1ebb98-da6a-4719-bfe3-d64c8a53d845",
   "metadata": {},
   "outputs": [
    {
     "data": {
      "text/plain": [
       "(1706, 256)"
      ]
     },
     "execution_count": 14,
     "metadata": {},
     "output_type": "execute_result"
    }
   ],
   "source": [
    "train_in.shape"
   ]
  },
  {
   "cell_type": "code",
   "execution_count": null,
   "id": "7b584504-efc1-4a3b-b4a4-a3ebcbb11d90",
   "metadata": {},
   "outputs": [],
   "source": []
  }
 ],
 "metadata": {
  "kernelspec": {
   "display_name": "Python 3 (ipykernel)",
   "language": "python",
   "name": "python3"
  },
  "language_info": {
   "codemirror_mode": {
    "name": "ipython",
    "version": 3
   },
   "file_extension": ".py",
   "mimetype": "text/x-python",
   "name": "python",
   "nbconvert_exporter": "python",
   "pygments_lexer": "ipython3",
   "version": "3.10.4"
  }
 },
 "nbformat": 4,
 "nbformat_minor": 5
}
