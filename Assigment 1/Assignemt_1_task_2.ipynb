{
 "cells": [
  {
   "cell_type": "code",
   "execution_count": 1,
   "id": "0c3920f6-f669-46a4-907b-6cf958ee5334",
   "metadata": {
    "id": "0c3920f6-f669-46a4-907b-6cf958ee5334"
   },
   "outputs": [],
   "source": [
    "import tensorflow as tf\n",
    "import numpy as np\n",
    "from sklearn.model_selection import train_test_split\n",
    "from tensorflow.keras import layers\n",
    "# from keras.layers.experimental.preprocessing import Normalization\n",
    "from sklearn.preprocessing import StandardScaler\n",
    "import matplotlib.pyplot as plt"
   ]
  },
  {
   "cell_type": "code",
   "execution_count": null,
   "id": "wCX9tY7J3dD4",
   "metadata": {
    "id": "wCX9tY7J3dD4"
   },
   "outputs": [],
   "source": []
  },
  {
   "cell_type": "code",
   "execution_count": null,
   "id": "9_v9TP9pCTcR",
   "metadata": {
    "colab": {
     "base_uri": "https://localhost:8080/"
    },
    "id": "9_v9TP9pCTcR",
    "outputId": "c1b8f3a9-521d-4ec0-aab1-a8bfe8b2fcd9"
   },
   "outputs": [
    {
     "name": "stdout",
     "output_type": "stream",
     "text": [
      "Drive already mounted at /content/drive; to attempt to forcibly remount, call drive.mount(\"/content/drive\", force_remount=True).\n"
     ]
    }
   ],
   "source": [
    "# from google.colab import drive\n",
    "# drive.mount('/content/drive')"
   ]
  },
  {
   "cell_type": "code",
   "execution_count": null,
   "id": "w3eWag130xSn",
   "metadata": {
    "id": "w3eWag130xSn"
   },
   "outputs": [],
   "source": []
  },
  {
   "cell_type": "markdown",
   "id": "19b2a603-f16e-4f63-b9dc-6b5b902df359",
   "metadata": {
    "id": "19b2a603-f16e-4f63-b9dc-6b5b902df359"
   },
   "source": [
    "### Uploading the data"
   ]
  },
  {
   "cell_type": "code",
   "execution_count": null,
   "id": "1da80d7a-1431-42c5-9001-92db368b7649",
   "metadata": {
    "id": "1da80d7a-1431-42c5-9001-92db368b7649"
   },
   "outputs": [],
   "source": [
    "# df = np.load('drive/MyDrive/Intro_to_DP/images.npy')\n",
    "# labels = np.load('drive/MyDrive/Intro_to_DP/labels.npy')"
   ]
  },
  {
   "cell_type": "code",
   "execution_count": 2,
   "id": "9645d4dc-32bb-4859-826d-b10651537ca4",
   "metadata": {},
   "outputs": [],
   "source": [
    "df = np.load('data/images.npy')\n",
    "labels = np.load('data/labels.npy')"
   ]
  },
  {
   "cell_type": "markdown",
   "id": "nM6geanDv9Yb",
   "metadata": {
    "id": "nM6geanDv9Yb"
   },
   "source": [
    "Normalizing the input data"
   ]
  },
  {
   "cell_type": "code",
   "execution_count": 3,
   "id": "Kyhz8WFuW4ok",
   "metadata": {
    "id": "Kyhz8WFuW4ok"
   },
   "outputs": [],
   "source": [
    "normalizer_layer = tf.keras.layers.LayerNormalization(axis=1)\n",
    "\n",
    "output = normalizer_layer(df)"
   ]
  },
  {
   "cell_type": "code",
   "execution_count": 4,
   "id": "KWQQ089SXKa8",
   "metadata": {
    "id": "KWQQ089SXKa8"
   },
   "outputs": [],
   "source": [
    "data = np.array(output)"
   ]
  },
  {
   "cell_type": "markdown",
   "id": "00f0cba4-091b-4412-8e28-8e7a4dcb0d75",
   "metadata": {
    "id": "00f0cba4-091b-4412-8e28-8e7a4dcb0d75"
   },
   "source": [
    "## First apporach: Create a 720 class classification (classes coresponds to the minutes on the clock)"
   ]
  },
  {
   "cell_type": "code",
   "execution_count": 5,
   "id": "affa09e3-016d-4234-b771-313857c15d7e",
   "metadata": {
    "id": "affa09e3-016d-4234-b771-313857c15d7e"
   },
   "outputs": [],
   "source": [
    "labels_v2 = labels[:,0]*60 + labels[:,1]"
   ]
  },
  {
   "cell_type": "code",
   "execution_count": 6,
   "id": "6776926c-607b-4e7a-aa1c-79d09ef206b5",
   "metadata": {
    "id": "6776926c-607b-4e7a-aa1c-79d09ef206b5"
   },
   "outputs": [],
   "source": [
    "X_train, X_test, y_train, y_test = train_test_split(data,labels_v2,test_size = 0.2,random_state = 0)"
   ]
  },
  {
   "cell_type": "code",
   "execution_count": 7,
   "id": "d0a33c87-1ccf-4e15-9fd7-3c561665071b",
   "metadata": {
    "id": "d0a33c87-1ccf-4e15-9fd7-3c561665071b"
   },
   "outputs": [],
   "source": [
    "model = tf.keras.Sequential([\n",
    "    layers.Conv2D(20, ((5,5)),strides =[2,2] ,activation = 'relu', input_shape = (150,150,1)),\n",
    "    # layers.MaxPooling2D(2,2),\n",
    "\n",
    "    layers.Conv2D(40, ((4,4)),activation = 'relu', input_shape = (73,73,10)),\n",
    "    layers.MaxPooling2D(2,2),\n",
    "\n",
    "    layers.Conv2D(75, ((4,4)), activation = 'relu', input_shape = (35,35,30)),\n",
    "    # layers.MaxPooling2D(2,2),\n",
    "\n",
    "    layers.Conv2D(100, ((3,3)), activation = 'relu', input_shape = (15,15,50)),\n",
    "    layers.MaxPooling2D(pool_size=(2,2)),\n",
    "\n",
    "    layers.Conv2D(125, (3,3), activation = 'relu', input_shape = (13,13,60)),\n",
    "    # layers.MaxPooling2D(2,2),\n",
    "\n",
    "    layers.Conv2D(150, (3,3), activation = 'relu', input_shape = (3,3,75)),\n",
    "    layers.MaxPooling2D(2,2),\n",
    "\n",
    "    layers.Conv2D(200, (3,3), activation = 'relu', input_shape = (5,5,200)),\n",
    "    # layers.Conv2D(150, (3,3), activation = 'relu', input_shape = (3,3,200)),\n",
    "    # layers.Conv2D(120, (3,3), activation = 'relu', input_shape = (150,150,1)),\n",
    "    # layers.MaxPooling2D(2,2),\n",
    "\n",
    "    layers.Flatten(),\n",
    "    layers.Dense(512, activation='relu'),\n",
    "    # layers.Dense(640, activation='relu'),\n",
    "    layers.Dense(720)\n",
    "])"
   ]
  },
  {
   "cell_type": "code",
   "execution_count": 8,
   "id": "Qg_ItJGVG205",
   "metadata": {
    "id": "Qg_ItJGVG205"
   },
   "outputs": [],
   "source": [
    "model = tf.keras.Sequential([\n",
    "    layers.Conv2D(20, ((4,4)),activation = 'relu', input_shape = (150,150,1)),\n",
    "    # layers.MaxPooling2D(2,2),\n",
    "\n",
    "    layers.Conv2D(40, ((3,3)),activation = 'relu', input_shape = (145,145,20)),\n",
    "    layers.MaxPooling2D(2,2),\n",
    "\n",
    "    layers.Conv2D(75, ((3,3)), activation = 'relu', input_shape = (72,72,40)),\n",
    "    # layers.MaxPooling2D(2,2),\n",
    "\n",
    "    layers.Conv2D(100, ((3,3)), activation = 'relu', input_shape = (68,68,75)),\n",
    "    layers.MaxPooling2D(pool_size=(2,2)),\n",
    "\n",
    "    layers.Conv2D(125, (3,3), activation = 'relu', input_shape = (34,34,100)),\n",
    "    # layers.MaxPooling2D(2,2),\n",
    "\n",
    "    layers.Conv2D(150, (3,3), activation = 'relu', input_shape = (3,3,75)),\n",
    "    layers.MaxPooling2D(2,2),\n",
    "\n",
    "    layers.Conv2D(200, (3,3), activation = 'relu', input_shape = (5,5,200)),\n",
    "    layers.Conv2D(200, (3,3), activation = 'relu', input_shape = (5,5,200)),\n",
    "    layers.MaxPooling2D(2,2),\n",
    "    layers.Conv2D(200, (3,3), activation = 'relu', input_shape = (5,5,200)),\n",
    "    # layers.Conv2D(150, (3,3), activation = 'relu', input_shape = (3,3,200)),\n",
    "    # layers.Conv2D(120, (3,3), activation = 'relu', input_shape = (150,150,1)),\n",
    "    # layers.MaxPooling2D(2,2),\n",
    "\n",
    "    layers.Flatten(),\n",
    "    layers.Dense(512, activation='relu'),\n",
    "    # layers.Dense(256, activation='tanh'),\n",
    "    layers.Dense(720)\n",
    "])"
   ]
  },
  {
   "cell_type": "code",
   "execution_count": 9,
   "id": "2fc7e54e-2f1c-4efa-926d-f5195d490290",
   "metadata": {
    "id": "2fc7e54e-2f1c-4efa-926d-f5195d490290"
   },
   "outputs": [],
   "source": [
    "opt = tf.keras.optimizers.Adam(learning_rate=0.0003)\n",
    "# model.compile(optimizer=tf.keras.optimizers.RMSprop(),\n",
    "#               loss=tf.keras.losses.sparse_categorical_crossentropy,\n",
    "#               metrics=['accuracy'])\n",
    "model.compile(optimizer=opt,\n",
    "              loss=tf.keras.losses.sparse_categorical_crossentropy,\n",
    "              metrics=['accuracy'])"
   ]
  },
  {
   "cell_type": "code",
   "execution_count": 10,
   "id": "f8On5LpYXvXX",
   "metadata": {
    "colab": {
     "base_uri": "https://localhost:8080/"
    },
    "id": "f8On5LpYXvXX",
    "outputId": "849cde3f-ddb0-4758-ba1c-947aec81a4dd"
   },
   "outputs": [
    {
     "name": "stdout",
     "output_type": "stream",
     "text": [
      "Model: \"sequential_1\"\n",
      "_________________________________________________________________\n",
      " Layer (type)                Output Shape              Param #   \n",
      "=================================================================\n",
      " conv2d_7 (Conv2D)           (None, 147, 147, 20)      340       \n",
      "                                                                 \n",
      " conv2d_8 (Conv2D)           (None, 145, 145, 40)      7240      \n",
      "                                                                 \n",
      " max_pooling2d_3 (MaxPooling  (None, 72, 72, 40)       0         \n",
      " 2D)                                                             \n",
      "                                                                 \n",
      " conv2d_9 (Conv2D)           (None, 70, 70, 75)        27075     \n",
      "                                                                 \n",
      " conv2d_10 (Conv2D)          (None, 68, 68, 100)       67600     \n",
      "                                                                 \n",
      " max_pooling2d_4 (MaxPooling  (None, 34, 34, 100)      0         \n",
      " 2D)                                                             \n",
      "                                                                 \n",
      " conv2d_11 (Conv2D)          (None, 32, 32, 125)       112625    \n",
      "                                                                 \n",
      " conv2d_12 (Conv2D)          (None, 30, 30, 150)       168900    \n",
      "                                                                 \n",
      " max_pooling2d_5 (MaxPooling  (None, 15, 15, 150)      0         \n",
      " 2D)                                                             \n",
      "                                                                 \n",
      " conv2d_13 (Conv2D)          (None, 13, 13, 200)       270200    \n",
      "                                                                 \n",
      " conv2d_14 (Conv2D)          (None, 11, 11, 200)       360200    \n",
      "                                                                 \n",
      " max_pooling2d_6 (MaxPooling  (None, 5, 5, 200)        0         \n",
      " 2D)                                                             \n",
      "                                                                 \n",
      " conv2d_15 (Conv2D)          (None, 3, 3, 200)         360200    \n",
      "                                                                 \n",
      " flatten_1 (Flatten)         (None, 1800)              0         \n",
      "                                                                 \n",
      " dense_2 (Dense)             (None, 512)               922112    \n",
      "                                                                 \n",
      " dense_3 (Dense)             (None, 720)               369360    \n",
      "                                                                 \n",
      "=================================================================\n",
      "Total params: 2,665,852\n",
      "Trainable params: 2,665,852\n",
      "Non-trainable params: 0\n",
      "_________________________________________________________________\n"
     ]
    }
   ],
   "source": [
    "model.summary()"
   ]
  },
  {
   "cell_type": "markdown",
   "id": "xfC8A9iHPJSd",
   "metadata": {
    "id": "xfC8A9iHPJSd"
   },
   "source": []
  },
  {
   "cell_type": "code",
   "execution_count": null,
   "id": "2bb14a16-4bc4-4348-bd6c-e15b26d2861e",
   "metadata": {
    "colab": {
     "base_uri": "https://localhost:8080/"
    },
    "id": "2bb14a16-4bc4-4348-bd6c-e15b26d2861e",
    "outputId": "47090056-a658-4f17-f0c8-5194ac5d56ec"
   },
   "outputs": [
    {
     "name": "stdout",
     "output_type": "stream",
     "text": [
      "Epoch 1/10\n",
      "13/57 [=====>........................] - ETA: 4:19 - loss: 12.8630 - accuracy: 0.0024"
     ]
    }
   ],
   "source": [
    "history = model.fit(X_train, y_train, epochs=10, batch_size = 256, validation_data = (X_test, y_test))"
   ]
  },
  {
   "cell_type": "markdown",
   "id": "MQijd94ewje8",
   "metadata": {
    "id": "MQijd94ewje8"
   },
   "source": [
    "Second Approach: Regression"
   ]
  },
  {
   "cell_type": "code",
   "execution_count": null,
   "id": "gj_Nyi06zzwV",
   "metadata": {
    "colab": {
     "base_uri": "https://localhost:8080/",
     "height": 469
    },
    "id": "gj_Nyi06zzwV",
    "outputId": "c1347336-4562-4e03-c7db-0126c9248efe"
   },
   "outputs": [
    {
     "data": {
      "image/png": "[encoded data removed]",
      "text/plain": [
       "<Figure size 1600x500 with 1 Axes>"
      ]
     },
     "metadata": {},
     "output_type": "display_data"
    }
   ],
   "source": [
    "plt.figure(figsize=(16,5))\n",
    "plt.plot(history.history['loss'],color='blue')\n",
    "plt.plot(history.history['val_loss'],color='orange')\n",
    "plt.xlabel('Epochs')\n",
    "plt.ylabel('Loss')\n",
    "plt.show()"
   ]
  },
  {
   "cell_type": "code",
   "execution_count": null,
   "id": "FUap4eaFwu8K",
   "metadata": {
    "id": "FUap4eaFwu8K"
   },
   "outputs": [],
   "source": [
    "labels_v3 = labels[:,0]*60 + labels[:,1]"
   ]
  },
  {
   "cell_type": "code",
   "execution_count": null,
   "id": "0pgdUIJUyLD9",
   "metadata": {
    "id": "0pgdUIJUyLD9"
   },
   "outputs": [],
   "source": [
    "def scaler(X,max,min):\n",
    "  X_scaled = (X - np.min(X)) / (np.max(X) - np.min(X)) * (max - min) + min\n",
    "  return X_scaled"
   ]
  },
  {
   "cell_type": "markdown",
   "id": "pg8gXNVEH0eF",
   "metadata": {
    "id": "pg8gXNVEH0eF"
   },
   "source": [
    "Here is the data transformed into a"
   ]
  },
  {
   "cell_type": "code",
   "execution_count": null,
   "id": "avGxB9iTyRqh",
   "metadata": {
    "colab": {
     "base_uri": "https://localhost:8080/"
    },
    "id": "avGxB9iTyRqh",
    "outputId": "7ed3f8da-18c5-433b-cd13-2f24c19f7f69"
   },
   "outputs": [
    {
     "data": {
      "text/plain": [
       "array([ 0.,  0.,  0., ..., 12., 12., 12.])"
      ]
     },
     "execution_count": 9,
     "metadata": {},
     "output_type": "execute_result"
    }
   ],
   "source": [
    "scaled_labels =scaler(labels_v3,12,0)\n",
    "scaled_labels.astype(float)"
   ]
  },
  {
   "cell_type": "code",
   "execution_count": null,
   "id": "MThQ90o0HzoO",
   "metadata": {
    "id": "MThQ90o0HzoO"
   },
   "outputs": [],
   "source": [
    "normalizer_layer = tf.keras.layers.LayerNormalization()\n",
    "\n",
    "output = normalizer_layer(scaled_labels)"
   ]
  },
  {
   "cell_type": "code",
   "execution_count": null,
   "id": "9OTlYix9I2wd",
   "metadata": {
    "colab": {
     "base_uri": "https://localhost:8080/"
    },
    "id": "9OTlYix9I2wd",
    "outputId": "b894e586-49ca-4876-e90a-4932ebe241c2"
   },
   "outputs": [
    {
     "data": {
      "text/plain": [
       "TensorShape([18000])"
      ]
     },
     "execution_count": 17,
     "metadata": {},
     "output_type": "execute_result"
    }
   ],
   "source": [
    "output.shape"
   ]
  },
  {
   "cell_type": "code",
   "execution_count": null,
   "id": "ILtaS9ktDEWj",
   "metadata": {
    "id": "ILtaS9ktDEWj"
   },
   "outputs": [],
   "source": [
    "from keras import backend as K\n",
    "K.clear_session()"
   ]
  },
  {
   "cell_type": "code",
   "execution_count": null,
   "id": "agjlurzA9jvY",
   "metadata": {
    "colab": {
     "base_uri": "https://localhost:8080/",
     "height": 338
    },
    "id": "agjlurzA9jvY",
    "outputId": "5626125b-712f-4af8-a20f-14ed10ae6d19"
   },
   "outputs": [
    {
     "ename": "TypeError",
     "evalue": "ignored",
     "output_type": "error",
     "traceback": [
      "\u001b[0;31m---------------------------------------------------------------------------\u001b[0m",
      "\u001b[0;31mTypeError\u001b[0m                                 Traceback (most recent call last)",
      "\u001b[0;32m<ipython-input-18-0afb19c895a5>\u001b[0m in \u001b[0;36m<cell line: 1>\u001b[0;34m()\u001b[0m\n\u001b[0;32m----> 1\u001b[0;31m \u001b[0mX_train\u001b[0m\u001b[0;34m,\u001b[0m \u001b[0mX_test\u001b[0m\u001b[0;34m,\u001b[0m \u001b[0my_train\u001b[0m\u001b[0;34m,\u001b[0m \u001b[0my_test\u001b[0m \u001b[0;34m=\u001b[0m \u001b[0mtrain_test_split\u001b[0m\u001b[0;34m(\u001b[0m\u001b[0mdata\u001b[0m\u001b[0;34m,\u001b[0m\u001b[0moutput\u001b[0m\u001b[0;34m,\u001b[0m\u001b[0mtest_size\u001b[0m \u001b[0;34m=\u001b[0m \u001b[0;36m0.2\u001b[0m\u001b[0;34m,\u001b[0m\u001b[0mrandom_state\u001b[0m \u001b[0;34m=\u001b[0m \u001b[0;36m0\u001b[0m\u001b[0;34m)\u001b[0m\u001b[0;34m\u001b[0m\u001b[0;34m\u001b[0m\u001b[0m\n\u001b[0m",
      "\u001b[0;32m/usr/local/lib/python3.10/dist-packages/sklearn/model_selection/_split.py\u001b[0m in \u001b[0;36mtrain_test_split\u001b[0;34m(test_size, train_size, random_state, shuffle, stratify, *arrays)\u001b[0m\n\u001b[1;32m   2583\u001b[0m         \u001b[0mtrain\u001b[0m\u001b[0;34m,\u001b[0m \u001b[0mtest\u001b[0m \u001b[0;34m=\u001b[0m \u001b[0mnext\u001b[0m\u001b[0;34m(\u001b[0m\u001b[0mcv\u001b[0m\u001b[0;34m.\u001b[0m\u001b[0msplit\u001b[0m\u001b[0;34m(\u001b[0m\u001b[0mX\u001b[0m\u001b[0;34m=\u001b[0m\u001b[0marrays\u001b[0m\u001b[0;34m[\u001b[0m\u001b[0;36m0\u001b[0m\u001b[0;34m]\u001b[0m\u001b[0;34m,\u001b[0m \u001b[0my\u001b[0m\u001b[0;34m=\u001b[0m\u001b[0mstratify\u001b[0m\u001b[0;34m)\u001b[0m\u001b[0;34m)\u001b[0m\u001b[0;34m\u001b[0m\u001b[0;34m\u001b[0m\u001b[0m\n\u001b[1;32m   2584\u001b[0m \u001b[0;34m\u001b[0m\u001b[0m\n\u001b[0;32m-> 2585\u001b[0;31m     return list(\n\u001b[0m\u001b[1;32m   2586\u001b[0m         chain.from_iterable(\n\u001b[1;32m   2587\u001b[0m             \u001b[0;34m(\u001b[0m\u001b[0m_safe_indexing\u001b[0m\u001b[0;34m(\u001b[0m\u001b[0ma\u001b[0m\u001b[0;34m,\u001b[0m \u001b[0mtrain\u001b[0m\u001b[0;34m)\u001b[0m\u001b[0;34m,\u001b[0m \u001b[0m_safe_indexing\u001b[0m\u001b[0;34m(\u001b[0m\u001b[0ma\u001b[0m\u001b[0;34m,\u001b[0m \u001b[0mtest\u001b[0m\u001b[0;34m)\u001b[0m\u001b[0;34m)\u001b[0m \u001b[0;32mfor\u001b[0m \u001b[0ma\u001b[0m \u001b[0;32min\u001b[0m \u001b[0marrays\u001b[0m\u001b[0;34m\u001b[0m\u001b[0;34m\u001b[0m\u001b[0m\n",
      "\u001b[0;32m/usr/local/lib/python3.10/dist-packages/sklearn/model_selection/_split.py\u001b[0m in \u001b[0;36m<genexpr>\u001b[0;34m(.0)\u001b[0m\n\u001b[1;32m   2585\u001b[0m     return list(\n\u001b[1;32m   2586\u001b[0m         chain.from_iterable(\n\u001b[0;32m-> 2587\u001b[0;31m             \u001b[0;34m(\u001b[0m\u001b[0m_safe_indexing\u001b[0m\u001b[0;34m(\u001b[0m\u001b[0ma\u001b[0m\u001b[0;34m,\u001b[0m \u001b[0mtrain\u001b[0m\u001b[0;34m)\u001b[0m\u001b[0;34m,\u001b[0m \u001b[0m_safe_indexing\u001b[0m\u001b[0;34m(\u001b[0m\u001b[0ma\u001b[0m\u001b[0;34m,\u001b[0m \u001b[0mtest\u001b[0m\u001b[0;34m)\u001b[0m\u001b[0;34m)\u001b[0m \u001b[0;32mfor\u001b[0m \u001b[0ma\u001b[0m \u001b[0;32min\u001b[0m \u001b[0marrays\u001b[0m\u001b[0;34m\u001b[0m\u001b[0;34m\u001b[0m\u001b[0m\n\u001b[0m\u001b[1;32m   2588\u001b[0m         )\n\u001b[1;32m   2589\u001b[0m     )\n",
      "\u001b[0;32m/usr/local/lib/python3.10/dist-packages/sklearn/utils/__init__.py\u001b[0m in \u001b[0;36m_safe_indexing\u001b[0;34m(X, indices, axis)\u001b[0m\n\u001b[1;32m    354\u001b[0m         \u001b[0;32mreturn\u001b[0m \u001b[0m_pandas_indexing\u001b[0m\u001b[0;34m(\u001b[0m\u001b[0mX\u001b[0m\u001b[0;34m,\u001b[0m \u001b[0mindices\u001b[0m\u001b[0;34m,\u001b[0m \u001b[0mindices_dtype\u001b[0m\u001b[0;34m,\u001b[0m \u001b[0maxis\u001b[0m\u001b[0;34m=\u001b[0m\u001b[0maxis\u001b[0m\u001b[0;34m)\u001b[0m\u001b[0;34m\u001b[0m\u001b[0;34m\u001b[0m\u001b[0m\n\u001b[1;32m    355\u001b[0m     \u001b[0;32melif\u001b[0m \u001b[0mhasattr\u001b[0m\u001b[0;34m(\u001b[0m\u001b[0mX\u001b[0m\u001b[0;34m,\u001b[0m \u001b[0;34m\"shape\"\u001b[0m\u001b[0;34m)\u001b[0m\u001b[0;34m:\u001b[0m\u001b[0;34m\u001b[0m\u001b[0;34m\u001b[0m\u001b[0m\n\u001b[0;32m--> 356\u001b[0;31m         \u001b[0;32mreturn\u001b[0m \u001b[0m_array_indexing\u001b[0m\u001b[0;34m(\u001b[0m\u001b[0mX\u001b[0m\u001b[0;34m,\u001b[0m \u001b[0mindices\u001b[0m\u001b[0;34m,\u001b[0m \u001b[0mindices_dtype\u001b[0m\u001b[0;34m,\u001b[0m \u001b[0maxis\u001b[0m\u001b[0;34m=\u001b[0m\u001b[0maxis\u001b[0m\u001b[0;34m)\u001b[0m\u001b[0;34m\u001b[0m\u001b[0;34m\u001b[0m\u001b[0m\n\u001b[0m\u001b[1;32m    357\u001b[0m     \u001b[0;32melse\u001b[0m\u001b[0;34m:\u001b[0m\u001b[0;34m\u001b[0m\u001b[0;34m\u001b[0m\u001b[0m\n\u001b[1;32m    358\u001b[0m         \u001b[0;32mreturn\u001b[0m \u001b[0m_list_indexing\u001b[0m\u001b[0;34m(\u001b[0m\u001b[0mX\u001b[0m\u001b[0;34m,\u001b[0m \u001b[0mindices\u001b[0m\u001b[0;34m,\u001b[0m \u001b[0mindices_dtype\u001b[0m\u001b[0;34m)\u001b[0m\u001b[0;34m\u001b[0m\u001b[0;34m\u001b[0m\u001b[0m\n",
      "\u001b[0;32m/usr/local/lib/python3.10/dist-packages/sklearn/utils/__init__.py\u001b[0m in \u001b[0;36m_array_indexing\u001b[0;34m(array, key, key_dtype, axis)\u001b[0m\n\u001b[1;32m    183\u001b[0m     \u001b[0;32mif\u001b[0m \u001b[0misinstance\u001b[0m\u001b[0;34m(\u001b[0m\u001b[0mkey\u001b[0m\u001b[0;34m,\u001b[0m \u001b[0mtuple\u001b[0m\u001b[0;34m)\u001b[0m\u001b[0;34m:\u001b[0m\u001b[0;34m\u001b[0m\u001b[0;34m\u001b[0m\u001b[0m\n\u001b[1;32m    184\u001b[0m         \u001b[0mkey\u001b[0m \u001b[0;34m=\u001b[0m \u001b[0mlist\u001b[0m\u001b[0;34m(\u001b[0m\u001b[0mkey\u001b[0m\u001b[0;34m)\u001b[0m\u001b[0;34m\u001b[0m\u001b[0;34m\u001b[0m\u001b[0m\n\u001b[0;32m--> 185\u001b[0;31m     \u001b[0;32mreturn\u001b[0m \u001b[0marray\u001b[0m\u001b[0;34m[\u001b[0m\u001b[0mkey\u001b[0m\u001b[0;34m]\u001b[0m \u001b[0;32mif\u001b[0m \u001b[0maxis\u001b[0m \u001b[0;34m==\u001b[0m \u001b[0;36m0\u001b[0m \u001b[0;32melse\u001b[0m \u001b[0marray\u001b[0m\u001b[0;34m[\u001b[0m\u001b[0;34m:\u001b[0m\u001b[0;34m,\u001b[0m \u001b[0mkey\u001b[0m\u001b[0;34m]\u001b[0m\u001b[0;34m\u001b[0m\u001b[0;34m\u001b[0m\u001b[0m\n\u001b[0m\u001b[1;32m    186\u001b[0m \u001b[0;34m\u001b[0m\u001b[0m\n\u001b[1;32m    187\u001b[0m \u001b[0;34m\u001b[0m\u001b[0m\n",
      "\u001b[0;32m/usr/local/lib/python3.10/dist-packages/tensorflow/python/util/traceback_utils.py\u001b[0m in \u001b[0;36merror_handler\u001b[0;34m(*args, **kwargs)\u001b[0m\n\u001b[1;32m    151\u001b[0m     \u001b[0;32mexcept\u001b[0m \u001b[0mException\u001b[0m \u001b[0;32mas\u001b[0m \u001b[0me\u001b[0m\u001b[0;34m:\u001b[0m\u001b[0;34m\u001b[0m\u001b[0;34m\u001b[0m\u001b[0m\n\u001b[1;32m    152\u001b[0m       \u001b[0mfiltered_tb\u001b[0m \u001b[0;34m=\u001b[0m \u001b[0m_process_traceback_frames\u001b[0m\u001b[0;34m(\u001b[0m\u001b[0me\u001b[0m\u001b[0;34m.\u001b[0m\u001b[0m__traceback__\u001b[0m\u001b[0;34m)\u001b[0m\u001b[0;34m\u001b[0m\u001b[0;34m\u001b[0m\u001b[0m\n\u001b[0;32m--> 153\u001b[0;31m       \u001b[0;32mraise\u001b[0m \u001b[0me\u001b[0m\u001b[0;34m.\u001b[0m\u001b[0mwith_traceback\u001b[0m\u001b[0;34m(\u001b[0m\u001b[0mfiltered_tb\u001b[0m\u001b[0;34m)\u001b[0m \u001b[0;32mfrom\u001b[0m \u001b[0;32mNone\u001b[0m\u001b[0;34m\u001b[0m\u001b[0;34m\u001b[0m\u001b[0m\n\u001b[0m\u001b[1;32m    154\u001b[0m     \u001b[0;32mfinally\u001b[0m\u001b[0;34m:\u001b[0m\u001b[0;34m\u001b[0m\u001b[0;34m\u001b[0m\u001b[0m\n\u001b[1;32m    155\u001b[0m       \u001b[0;32mdel\u001b[0m \u001b[0mfiltered_tb\u001b[0m\u001b[0;34m\u001b[0m\u001b[0;34m\u001b[0m\u001b[0m\n",
      "\u001b[0;32m/usr/local/lib/python3.10/dist-packages/tensorflow/python/ops/array_ops.py\u001b[0m in \u001b[0;36m_check_index\u001b[0;34m(idx)\u001b[0m\n\u001b[1;32m    968\u001b[0m     \u001b[0;31m# TODO(slebedev): IndexError seems more appropriate here, but it\u001b[0m\u001b[0;34m\u001b[0m\u001b[0;34m\u001b[0m\u001b[0m\n\u001b[1;32m    969\u001b[0m     \u001b[0;31m# will break `_slice_helper` contract.\u001b[0m\u001b[0;34m\u001b[0m\u001b[0;34m\u001b[0m\u001b[0m\n\u001b[0;32m--> 970\u001b[0;31m     \u001b[0;32mraise\u001b[0m \u001b[0mTypeError\u001b[0m\u001b[0;34m(\u001b[0m\u001b[0m_SLICE_TYPE_ERROR\u001b[0m \u001b[0;34m+\u001b[0m \u001b[0;34m\", got {!r}\"\u001b[0m\u001b[0;34m.\u001b[0m\u001b[0mformat\u001b[0m\u001b[0;34m(\u001b[0m\u001b[0midx\u001b[0m\u001b[0;34m)\u001b[0m\u001b[0;34m)\u001b[0m\u001b[0;34m\u001b[0m\u001b[0;34m\u001b[0m\u001b[0m\n\u001b[0m\u001b[1;32m    971\u001b[0m \u001b[0;34m\u001b[0m\u001b[0m\n\u001b[1;32m    972\u001b[0m \u001b[0;34m\u001b[0m\u001b[0m\n",
      "\u001b[0;31mTypeError\u001b[0m: Only integers, slices (`:`), ellipsis (`...`), tf.newaxis (`None`) and scalar tf.int32/tf.int64 tensors are valid indices, got array([ 2465,  8461, 13734, ...,  9845, 10799,  2732])"
     ]
    }
   ],
   "source": [
    "X_train, X_test, y_train, y_test = train_test_split(data,output,test_size = 0.2,random_state = 0)"
   ]
  },
  {
   "cell_type": "code",
   "execution_count": null,
   "id": "qaWJv-Xuyp2Z",
   "metadata": {
    "id": "qaWJv-Xuyp2Z"
   },
   "outputs": [],
   "source": [
    "model = tf.keras.Sequential([\n",
    "    layers.Conv2D(20, ((5,5)),strides =[2,2] ,activation = 'tanh', input_shape = (150,150,1)),\n",
    "    # layers.MaxPooling2D(2,2),\n",
    "\n",
    "    layers.Conv2D(40, ((4,4)),activation = 'tanh', input_shape = (73,73,10)),\n",
    "    layers.MaxPooling2D(2,2),\n",
    "\n",
    "    layers.Conv2D(75, ((4,4)), activation = 'tanh', input_shape = (35,35,30)),\n",
    "    # layers.MaxPooling2D(2,2),\n",
    "\n",
    "    layers.Conv2D(100, ((3,3)), activation = 'tanh', input_shape = (15,15,50)),\n",
    "    layers.MaxPooling2D(pool_size=(2,2)),\n",
    "\n",
    "    layers.Conv2D(125, (3,3), activation = 'tanh', input_shape = (13,13,60)),\n",
    "    # layers.MaxPooling2D(2,2),\n",
    "\n",
    "    layers.Conv2D(150, (3,3), activation = 'tanh', input_shape = (3,3,75)),\n",
    "    layers.MaxPooling2D(2,2),\n",
    "\n",
    "    layers.Conv2D(200, (3,3), activation = 'tanh', input_shape = (5,5,200)),\n",
    "    # layers.Conv2D(150, (3,3), activation = 'relu', input_shape = (3,3,200)),\n",
    "    # layers.Conv2D(120, (3,3), activation = 'relu', input_shape = (150,150,1)),\n",
    "    # layers.MaxPooling2D(2,2),\n",
    "\n",
    "    layers.Flatten(),\n",
    "    layers.Dense(512, activation='tanh'),\n",
    "    layers.Dense(256, activation='tanh'),\n",
    "    layers.Dense(1)\n",
    "])"
   ]
  },
  {
   "cell_type": "code",
   "execution_count": null,
   "id": "NPIXL3AXC4uh",
   "metadata": {
    "id": "NPIXL3AXC4uh"
   },
   "outputs": [],
   "source": [
    "model = tf.keras.Sequential([\n",
    "    layers.Conv2D(20, ((4,4)),activation = 'tanh', input_shape = (150,150,1)),\n",
    "    # layers.MaxPooling2D(2,2),\n",
    "\n",
    "    layers.Conv2D(40, ((3,3)),activation = 'tanh', input_shape = (145,145,20)),\n",
    "    layers.MaxPooling2D(2,2),\n",
    "\n",
    "    layers.Conv2D(75, ((3,3)), activation = 'tanh', input_shape = (72,72,40)),\n",
    "    # layers.MaxPooling2D(2,2),\n",
    "\n",
    "    layers.Conv2D(100, ((3,3)), activation = 'tanh', input_shape = (68,68,75)),\n",
    "    layers.MaxPooling2D(pool_size=(2,2)),\n",
    "\n",
    "    layers.Conv2D(125, (3,3), activation = 'tanh', input_shape = (34,34,100)),\n",
    "    # layers.MaxPooling2D(2,2),\n",
    "\n",
    "    layers.Conv2D(150, (3,3), activation = 'tanh', input_shape = (3,3,75)),\n",
    "    layers.MaxPooling2D(2,2),\n",
    "\n",
    "    layers.Conv2D(200, (3,3), activation = 'tanh', input_shape = (5,5,200)),\n",
    "    layers.Conv2D(200, (3,3), activation = 'tanh', input_shape = (5,5,200)),\n",
    "    layers.MaxPooling2D(2,2),\n",
    "    layers.Conv2D(200, (3,3), activation = 'tanh', input_shape = (5,5,200)),\n",
    "    # layers.Conv2D(150, (3,3), activation = 'relu', input_shape = (3,3,200)),\n",
    "    # layers.Conv2D(120, (3,3), activation = 'relu', input_shape = (150,150,1)),\n",
    "    # layers.MaxPooling2D(2,2),\n",
    "\n",
    "    layers.Flatten(),\n",
    "    layers.Dense(512, activation='tanh'),\n",
    "    layers.Dense(256, activation='tanh'),\n",
    "    layers.Dense(1)\n",
    "])"
   ]
  },
  {
   "cell_type": "code",
   "execution_count": null,
   "id": "wNm5en2XDBZ-",
   "metadata": {
    "colab": {
     "base_uri": "https://localhost:8080/"
    },
    "id": "wNm5en2XDBZ-",
    "outputId": "d3ab7f68-b364-4416-cf0f-6c7e18a8282d"
   },
   "outputs": [
    {
     "name": "stdout",
     "output_type": "stream",
     "text": [
      "Model: \"sequential\"\n",
      "_________________________________________________________________\n",
      " Layer (type)                Output Shape              Param #   \n",
      "=================================================================\n",
      " conv2d (Conv2D)             (None, 147, 147, 20)      340       \n",
      "                                                                 \n",
      " conv2d_1 (Conv2D)           (None, 145, 145, 40)      7240      \n",
      "                                                                 \n",
      " max_pooling2d (MaxPooling2  (None, 72, 72, 40)        0         \n",
      " D)                                                              \n",
      "                                                                 \n",
      " conv2d_2 (Conv2D)           (None, 70, 70, 75)        27075     \n",
      "                                                                 \n",
      " conv2d_3 (Conv2D)           (None, 68, 68, 100)       67600     \n",
      "                                                                 \n",
      " max_pooling2d_1 (MaxPoolin  (None, 34, 34, 100)       0         \n",
      " g2D)                                                            \n",
      "                                                                 \n",
      " conv2d_4 (Conv2D)           (None, 32, 32, 125)       112625    \n",
      "                                                                 \n",
      " conv2d_5 (Conv2D)           (None, 30, 30, 150)       168900    \n",
      "                                                                 \n",
      " max_pooling2d_2 (MaxPoolin  (None, 15, 15, 150)       0         \n",
      " g2D)                                                            \n",
      "                                                                 \n",
      " conv2d_6 (Conv2D)           (None, 13, 13, 200)       270200    \n",
      "                                                                 \n",
      " conv2d_7 (Conv2D)           (None, 11, 11, 200)       360200    \n",
      "                                                                 \n",
      " max_pooling2d_3 (MaxPoolin  (None, 5, 5, 200)         0         \n",
      " g2D)                                                            \n",
      "                                                                 \n",
      " conv2d_8 (Conv2D)           (None, 3, 3, 200)         360200    \n",
      "                                                                 \n",
      " flatten (Flatten)           (None, 1800)              0         \n",
      "                                                                 \n",
      " dense (Dense)               (None, 512)               922112    \n",
      "                                                                 \n",
      " dense_1 (Dense)             (None, 256)               131328    \n",
      "                                                                 \n",
      " dense_2 (Dense)             (None, 1)                 257       \n",
      "                                                                 \n",
      "=================================================================\n",
      "Total params: 2428077 (9.26 MB)\n",
      "Trainable params: 2428077 (9.26 MB)\n",
      "Non-trainable params: 0 (0.00 Byte)\n",
      "_________________________________________________________________\n"
     ]
    }
   ],
   "source": [
    "model.summary()"
   ]
  },
  {
   "cell_type": "code",
   "execution_count": null,
   "id": "wW4kHS1ez0eb",
   "metadata": {
    "id": "wW4kHS1ez0eb"
   },
   "outputs": [],
   "source": [
    "opt = tf.keras.optimizers.Adam(learning_rate=0.003)\n",
    "# model.compile(optimizer=tf.keras.optimizers.RMSprop(),\n",
    "#               loss=tf.keras.losses.sparse_categorical_crossentropy,\n",
    "#               metrics=['accuracy'])\n",
    "model.compile(optimizer=opt,\n",
    "              loss=tf.keras.losses.MeanSquaredError(),\n",
    "              metrics=['accuracy'])"
   ]
  },
  {
   "cell_type": "code",
   "execution_count": null,
   "id": "PU8d6vcg0KW5",
   "metadata": {
    "id": "PU8d6vcg0KW5"
   },
   "outputs": [],
   "source": [
    "history = model.fit(X_train, y_train, epochs=30, batch_size = 256, validation_data = (X_test, y_test))"
   ]
  },
  {
   "cell_type": "code",
   "execution_count": null,
   "id": "LivBdfyt0-va",
   "metadata": {
    "colab": {
     "base_uri": "https://localhost:8080/",
     "height": 465
    },
    "id": "LivBdfyt0-va",
    "outputId": "ec7aa17e-9f79-4eec-8a6b-3c744fc32270"
   },
   "outputs": [
    {
     "data": {
      "image/png": "[encoded data removed]",
      "text/plain": [
       "<Figure size 1600x500 with 1 Axes>"
      ]
     },
     "metadata": {},
     "output_type": "display_data"
    }
   ],
   "source": [
    "plt.figure(figsize=(16,5))\n",
    "plt.plot(history.history['loss'],color='blue')\n",
    "plt.plot(history.history['val_loss'],color='orange')\n",
    "plt.xlabel('Epochs')\n",
    "plt.ylabel('Loss')\n",
    "plt.show()"
   ]
  },
  {
   "cell_type": "code",
   "execution_count": null,
   "id": "T30Zst1d-FCL",
   "metadata": {
    "id": "T30Zst1d-FCL"
   },
   "outputs": [],
   "source": [
    "model.save('regression_model')"
   ]
  },
  {
   "cell_type": "markdown",
   "id": "THVzX2ZUSASC",
   "metadata": {
    "id": "THVzX2ZUSASC"
   },
   "source": [
    "## Multi head model\n",
    "\n",
    "Here is the model that uses one convulitional network and then the outputs are based on two different fully conected linear networks\n"
   ]
  },
  {
   "cell_type": "code",
   "execution_count": null,
   "id": "CCNY80OYC4OJ",
   "metadata": {
    "id": "CCNY80OYC4OJ"
   },
   "outputs": [],
   "source": [
    "cnn_model = tf.keras.Sequential([\n",
    "      layers.Conv2D(20, ((4,4)),activation = 'tanh', input_shape = (150,150,1)),\n",
    "      # layers.MaxPooling2D(2,2),\n",
    "\n",
    "      layers.Conv2D(40, ((3,3)),activation = 'tanh', input_shape = (145,145,20)),\n",
    "      layers.MaxPooling2D(2,2),\n",
    "\n",
    "      layers.Conv2D(75, ((3,3)), activation = 'tanh', input_shape = (72,72,40)),\n",
    "      # layers.MaxPooling2D(2,2),\n",
    "\n",
    "      layers.Conv2D(100, ((3,3)), activation = 'tanh', input_shape = (68,68,75)),\n",
    "      layers.MaxPooling2D(pool_size=(2,2)),\n",
    "\n",
    "      layers.Conv2D(125, (3,3), activation = 'tanh', input_shape = (34,34,100)),\n",
    "      # layers.MaxPooling2D(2,2),\n",
    "\n",
    "      layers.Conv2D(150, (3,3), activation = 'tanh', input_shape = (3,3,75)),\n",
    "      layers.MaxPooling2D(2,2),\n",
    "\n",
    "      layers.Conv2D(200, (3,3), activation = 'tanh', input_shape = (5,5,200)),\n",
    "      layers.Conv2D(200, (3,3), activation = 'tanh', input_shape = (5,5,200)),\n",
    "      layers.MaxPooling2D(2,2),\n",
    "      layers.Conv2D(200, (3,3), activation = 'tanh', input_shape = (5,5,200)),\n",
    "      # layers.Conv2D(150, (3,3), activation = 'relu', input_shape = (3,3,200)),\n",
    "      # layers.Conv2D(120, (3,3), activation = 'relu', input_shape = (150,150,1)),\n",
    "      # layers.MaxPooling2D(2,2),\n",
    "\n",
    "      layers.Flatten()])\n",
    "\n",
    "fully_conected_minutes =    tf.keras.Sequential([ layers.Dense(512, activation='relu'),\n",
    "      layers.Dense(256, activation='relu'),\n",
    "      layers.Dense(60)])\n",
    "\n",
    "fully_connected_hours = tf.keras.Sequential([ layers.Dense(512, activation='relu'),\n",
    "      layers.Dense(256, activation='relu'),\n",
    "      layers.Dense(12)])\n",
    "\n"
   ]
  },
  {
   "cell_type": "code",
   "execution_count": null,
   "id": "W73LRt56UAz_",
   "metadata": {
    "colab": {
     "base_uri": "https://localhost:8080/",
     "height": 321
    },
    "id": "W73LRt56UAz_",
    "outputId": "3cd4bee0-192b-4200-bcf0-a8a2e94133ab"
   },
   "outputs": [
    {
     "ename": "TypeError",
     "evalue": "ignored",
     "output_type": "error",
     "traceback": [
      "\u001b[0;31m---------------------------------------------------------------------------\u001b[0m",
      "\u001b[0;31mTypeError\u001b[0m                                 Traceback (most recent call last)",
      "\u001b[0;32m<ipython-input-36-18af4ff123b8>\u001b[0m in \u001b[0;36m<cell line: 1>\u001b[0;34m()\u001b[0m\n\u001b[0;32m----> 1\u001b[0;31m \u001b[0mmodel\u001b[0m \u001b[0;34m=\u001b[0m \u001b[0mtf\u001b[0m\u001b[0;34m.\u001b[0m\u001b[0mkeras\u001b[0m\u001b[0;34m.\u001b[0m\u001b[0mmodels\u001b[0m\u001b[0;34m.\u001b[0m\u001b[0mModel\u001b[0m\u001b[0;34m(\u001b[0m\u001b[0moutputs\u001b[0m \u001b[0;34m=\u001b[0m\u001b[0;34m[\u001b[0m\u001b[0mfully_connected_hours\u001b[0m\u001b[0;34m,\u001b[0m\u001b[0mfully_conected_minutes\u001b[0m\u001b[0;34m]\u001b[0m\u001b[0;34m)\u001b[0m\u001b[0;34m\u001b[0m\u001b[0;34m\u001b[0m\u001b[0m\n\u001b[0m",
      "\u001b[0;32m/usr/local/lib/python3.10/dist-packages/tensorflow/python/trackable/base.py\u001b[0m in \u001b[0;36m_method_wrapper\u001b[0;34m(self, *args, **kwargs)\u001b[0m\n\u001b[1;32m    202\u001b[0m     \u001b[0mself\u001b[0m\u001b[0;34m.\u001b[0m\u001b[0m_self_setattr_tracking\u001b[0m \u001b[0;34m=\u001b[0m \u001b[0;32mFalse\u001b[0m  \u001b[0;31m# pylint: disable=protected-access\u001b[0m\u001b[0;34m\u001b[0m\u001b[0;34m\u001b[0m\u001b[0m\n\u001b[1;32m    203\u001b[0m     \u001b[0;32mtry\u001b[0m\u001b[0;34m:\u001b[0m\u001b[0;34m\u001b[0m\u001b[0;34m\u001b[0m\u001b[0m\n\u001b[0;32m--> 204\u001b[0;31m       \u001b[0mresult\u001b[0m \u001b[0;34m=\u001b[0m \u001b[0mmethod\u001b[0m\u001b[0;34m(\u001b[0m\u001b[0mself\u001b[0m\u001b[0;34m,\u001b[0m \u001b[0;34m*\u001b[0m\u001b[0margs\u001b[0m\u001b[0;34m,\u001b[0m \u001b[0;34m**\u001b[0m\u001b[0mkwargs\u001b[0m\u001b[0;34m)\u001b[0m\u001b[0;34m\u001b[0m\u001b[0;34m\u001b[0m\u001b[0m\n\u001b[0m\u001b[1;32m    205\u001b[0m     \u001b[0;32mfinally\u001b[0m\u001b[0;34m:\u001b[0m\u001b[0;34m\u001b[0m\u001b[0;34m\u001b[0m\u001b[0m\n\u001b[1;32m    206\u001b[0m       \u001b[0mself\u001b[0m\u001b[0;34m.\u001b[0m\u001b[0m_self_setattr_tracking\u001b[0m \u001b[0;34m=\u001b[0m \u001b[0mprevious_value\u001b[0m  \u001b[0;31m# pylint: disable=protected-access\u001b[0m\u001b[0;34m\u001b[0m\u001b[0;34m\u001b[0m\u001b[0m\n",
      "\u001b[0;32m/usr/local/lib/python3.10/dist-packages/keras/src/utils/traceback_utils.py\u001b[0m in \u001b[0;36merror_handler\u001b[0;34m(*args, **kwargs)\u001b[0m\n\u001b[1;32m     68\u001b[0m             \u001b[0;31m# To get the full stack trace, call:\u001b[0m\u001b[0;34m\u001b[0m\u001b[0;34m\u001b[0m\u001b[0m\n\u001b[1;32m     69\u001b[0m             \u001b[0;31m# `tf.debugging.disable_traceback_filtering()`\u001b[0m\u001b[0;34m\u001b[0m\u001b[0;34m\u001b[0m\u001b[0m\n\u001b[0;32m---> 70\u001b[0;31m             \u001b[0;32mraise\u001b[0m \u001b[0me\u001b[0m\u001b[0;34m.\u001b[0m\u001b[0mwith_traceback\u001b[0m\u001b[0;34m(\u001b[0m\u001b[0mfiltered_tb\u001b[0m\u001b[0;34m)\u001b[0m \u001b[0;32mfrom\u001b[0m \u001b[0;32mNone\u001b[0m\u001b[0;34m\u001b[0m\u001b[0;34m\u001b[0m\u001b[0m\n\u001b[0m\u001b[1;32m     71\u001b[0m         \u001b[0;32mfinally\u001b[0m\u001b[0;34m:\u001b[0m\u001b[0;34m\u001b[0m\u001b[0;34m\u001b[0m\u001b[0m\n\u001b[1;32m     72\u001b[0m             \u001b[0;32mdel\u001b[0m \u001b[0mfiltered_tb\u001b[0m\u001b[0;34m\u001b[0m\u001b[0;34m\u001b[0m\u001b[0m\n",
      "\u001b[0;32m/usr/local/lib/python3.10/dist-packages/keras/src/utils/generic_utils.py\u001b[0m in \u001b[0;36mvalidate_kwargs\u001b[0;34m(kwargs, allowed_kwargs, error_message)\u001b[0m\n\u001b[1;32m    512\u001b[0m     \u001b[0;32mfor\u001b[0m \u001b[0mkwarg\u001b[0m \u001b[0;32min\u001b[0m \u001b[0mkwargs\u001b[0m\u001b[0;34m:\u001b[0m\u001b[0;34m\u001b[0m\u001b[0;34m\u001b[0m\u001b[0m\n\u001b[1;32m    513\u001b[0m         \u001b[0;32mif\u001b[0m \u001b[0mkwarg\u001b[0m \u001b[0;32mnot\u001b[0m \u001b[0;32min\u001b[0m \u001b[0mallowed_kwargs\u001b[0m\u001b[0;34m:\u001b[0m\u001b[0;34m\u001b[0m\u001b[0;34m\u001b[0m\u001b[0m\n\u001b[0;32m--> 514\u001b[0;31m             \u001b[0;32mraise\u001b[0m \u001b[0mTypeError\u001b[0m\u001b[0;34m(\u001b[0m\u001b[0merror_message\u001b[0m\u001b[0;34m,\u001b[0m \u001b[0mkwarg\u001b[0m\u001b[0;34m)\u001b[0m\u001b[0;34m\u001b[0m\u001b[0;34m\u001b[0m\u001b[0m\n\u001b[0m\u001b[1;32m    515\u001b[0m \u001b[0;34m\u001b[0m\u001b[0m\n\u001b[1;32m    516\u001b[0m \u001b[0;34m\u001b[0m\u001b[0m\n",
      "\u001b[0;31mTypeError\u001b[0m: ('Keyword argument not understood:', 'outputs')"
     ]
    }
   ],
   "source": [
    "model = tf.keras.models.Model(outputs =[fully_connected_hours,fully_conected_minutes])"
   ]
  },
  {
   "cell_type": "code",
   "execution_count": null,
   "id": "huCj0AdnUjUu",
   "metadata": {
    "id": "huCj0AdnUjUu"
   },
   "outputs": [],
   "source": []
  }
 ],
 "metadata": {
  "accelerator": "GPU",
  "colab": {
   "gpuType": "T4",
   "provenance": []
  },
  "kernelspec": {
   "display_name": "Python 3 (ipykernel)",
   "language": "python",
   "name": "python3"
  },
  "language_info": {
   "codemirror_mode": {
    "name": "ipython",
    "version": 3
   },
   "file_extension": ".py",
   "mimetype": "text/x-python",
   "name": "python",
   "nbconvert_exporter": "python",
   "pygments_lexer": "ipython3",
   "version": "3.9.13"
  }
 },
 "nbformat": 4,
 "nbformat_minor": 5
}
