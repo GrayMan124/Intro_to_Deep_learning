{
 "cells": [
  {
   "cell_type": "code",
   "execution_count": 1,
   "id": "0c3920f6-f669-46a4-907b-6cf958ee5334",
   "metadata": {},
   "outputs": [],
   "source": [
    "import tensorflow as tf\n",
    "import numpy as np\n",
    "from sklearn.model_selection import train_test_split\n",
    "from tensorflow.keras import layers"
   ]
  },
  {
   "cell_type": "code",
   "execution_count": 2,
   "id": "9b627a9c-1f8b-4765-a658-dbf09b719cf1",
   "metadata": {},
   "outputs": [
    {
     "data": {
      "text/plain": [
       "'2.10.0'"
      ]
     },
     "execution_count": 2,
     "metadata": {},
     "output_type": "execute_result"
    }
   ],
   "source": [
    "tf.__version__"
   ]
  },
  {
   "cell_type": "code",
   "execution_count": 3,
   "id": "45651650-37a9-4568-bf75-393541b00881",
   "metadata": {},
   "outputs": [
    {
     "data": {
      "text/plain": [
       "[PhysicalDevice(name='/physical_device:CPU:0', device_type='CPU')]"
      ]
     },
     "execution_count": 3,
     "metadata": {},
     "output_type": "execute_result"
    }
   ],
   "source": [
    "tf.config.list_physical_devices()"
   ]
  },
  {
   "cell_type": "markdown",
   "id": "19b2a603-f16e-4f63-b9dc-6b5b902df359",
   "metadata": {},
   "source": [
    "### Uploading the data"
   ]
  },
  {
   "cell_type": "code",
   "execution_count": 2,
   "id": "dcba522f-67b6-4359-8bb8-62e9d3c36dbe",
   "metadata": {},
   "outputs": [
    {
     "name": "stdout",
     "output_type": "stream",
     "text": [
      "[]\n"
     ]
    }
   ],
   "source": [
    "print(tf.config.list_physical_devices('GPU'))"
   ]
  },
  {
   "cell_type": "code",
   "execution_count": 2,
   "id": "1da80d7a-1431-42c5-9001-92db368b7649",
   "metadata": {},
   "outputs": [],
   "source": [
    "df = np.load('data\\images.npy')\n",
    "labels = np.load('data\\labels.npy')"
   ]
  },
  {
   "cell_type": "markdown",
   "id": "00f0cba4-091b-4412-8e28-8e7a4dcb0d75",
   "metadata": {},
   "source": [
    "## First apporach: Create a 720 class classification (classes coresponds to the minutes on the clock)"
   ]
  },
  {
   "cell_type": "code",
   "execution_count": 3,
   "id": "affa09e3-016d-4234-b771-313857c15d7e",
   "metadata": {},
   "outputs": [],
   "source": [
    "labels_v2 = labels[:,0]*60 + labels[:,1]"
   ]
  },
  {
   "cell_type": "code",
   "execution_count": 5,
   "id": "6776926c-607b-4e7a-aa1c-79d09ef206b5",
   "metadata": {},
   "outputs": [],
   "source": [
    "X_train, X_test, y_train, y_test = train_test_split(df,labels_v2,test_size = 0.2,random_state = 0)"
   ]
  },
  {
   "cell_type": "code",
   "execution_count": 7,
   "id": "d0a33c87-1ccf-4e15-9fd7-3c561665071b",
   "metadata": {},
   "outputs": [],
   "source": [
    "model = tf.keras.Sequential([\n",
    "    layers.Conv2D(150, (3,3), activation = 'relu', input_shape = (150,150,1)), \n",
    "    layers.MaxPooling2D(2,2),\n",
    "    layers.Conv2D(120, (3,3), activation = 'relu', input_shape = (150,150,1)), \n",
    "    layers.MaxPooling2D(2,2),\n",
    "    layers.Flatten(),\n",
    "    layers.Dense(128, activation='relu'),\n",
    "    layers.Dense(720)\n",
    "])"
   ]
  },
  {
   "cell_type": "code",
   "execution_count": 8,
   "id": "2fc7e54e-2f1c-4efa-926d-f5195d490290",
   "metadata": {},
   "outputs": [],
   "source": [
    "model.compile(optimizer=tf.keras.optimizers.RMSprop(),\n",
    "              loss=tf.keras.losses.sparse_categorical_crossentropy,\n",
    "              metrics=['accuracy'])"
   ]
  },
  {
   "cell_type": "code",
   "execution_count": 9,
   "id": "2bb14a16-4bc4-4348-bd6c-e15b26d2861e",
   "metadata": {},
   "outputs": [
    {
     "name": "stdout",
     "output_type": "stream",
     "text": [
      "Epoch 1/2\n",
      " 35/450 [=>............................] - ETA: 5:50 - loss: 15.2713 - accuracy: 8.9286e-04"
     ]
    },
    {
     "name": "stderr",
     "output_type": "stream",
     "text": [
      "\n",
      "KeyboardInterrupt\n",
      "\n"
     ]
    }
   ],
   "source": [
    "model.fit(X_train, y_train, epochs=2)"
   ]
  },
  {
   "cell_type": "code",
   "execution_count": null,
   "id": "6d8f2eb3-857a-40e1-978e-e9fe661cc0f8",
   "metadata": {},
   "outputs": [],
   "source": []
  }
 ],
 "metadata": {
  "kernelspec": {
   "display_name": "Python 3 (ipykernel)",
   "language": "python",
   "name": "python3"
  },
  "language_info": {
   "codemirror_mode": {
    "name": "ipython",
    "version": 3
   },
   "file_extension": ".py",
   "mimetype": "text/x-python",
   "name": "python",
   "nbconvert_exporter": "python",
   "pygments_lexer": "ipython3",
   "version": "3.9.13"
  }
 },
 "nbformat": 4,
 "nbformat_minor": 5
}
