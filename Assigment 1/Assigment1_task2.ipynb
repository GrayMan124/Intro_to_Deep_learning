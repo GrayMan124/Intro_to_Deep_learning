{
 "cells": [
  {
   "cell_type": "code",
   "execution_count": 1,
   "id": "c5f49328-f9dc-4d4b-b9b9-74e1fa6fcaa3",
   "metadata": {},
   "outputs": [],
   "source": [
    "import numpy as np\n",
    "import pandas as pd\n",
    "import matplotlib.pyplot as plt"
   ]
  },
  {
   "cell_type": "code",
   "execution_count": 2,
   "id": "7ac53824-d4c0-4ba1-9574-7acce10955d2",
   "metadata": {},
   "outputs": [],
   "source": [
    "train_in = pd.read_csv('train_in.csv')\n",
    "train_out = pd.read_csv('train_out.csv')"
   ]
  },
  {
   "cell_type": "code",
   "execution_count": 129,
   "id": "7ab791a9-d54e-45e3-b192-aa69c9285c12",
   "metadata": {},
   "outputs": [],
   "source": [
    "class Perceptron_net:\n",
    "    def __init__(self,input_dim, output_dim):\n",
    "        self.weights = np.random.rand(input_dim + 1,output_dim)\n",
    "        \n",
    "    def forward(self,x):\n",
    "        return np.column_stack((np.ones([x.shape[0]]),x)) @ self.weights\n",
    "\n",
    "    def predict(self, x):\n",
    "        return np.concatenate((np.ones(1),x)) @ self.weights \n",
    "\n",
    "    def fit(self,x,y,learning_rate=1):\n",
    "        #Creating a boolean to know if the model predicts everything right\n",
    "        not_done = True\n",
    "        #While the model is not 100% accurate\n",
    "        while not_done:\n",
    "            not_done = False\n",
    "            # Go through every example and check if the prediction is correct, if not update the weights\n",
    "            # not_done is left on False only if every example is correct\n",
    "            for i in range(len(y)): \n",
    "                #Getting a prediction\n",
    "                predictions = self.predict(x.iloc[i])\n",
    "                y_p = np.argmax(predictions)\n",
    "                y_tmp  = y.iloc[i]['6']\n",
    "                # comparison to the label from train_out\n",
    "                if y_p != y_tmp:\n",
    "                    #Wrongly predicted example - change not_done to True so that we will stay in the fit function\n",
    "                    # and update the weights\n",
    "                    not_done = True\n",
    "                    for j in range(10):\n",
    "                        if predictions[j] > predictions[y_tmp]:\n",
    "                            self.weights[:,j] = self.weights[:,j] - learning_rate*np.concatenate((np.ones(1),x.iloc[i]))\n",
    "                        elif j == y_tmp:\n",
    "                            self.weights[:,j] = self.weights[:,j] + learning_rate*np.concatenate((np.ones(1),x.iloc[i]))"
   ]
  },
  {
   "cell_type": "code",
   "execution_count": 130,
   "id": "de290a3e-8553-47ef-a2a5-df31fe5c5ef5",
   "metadata": {},
   "outputs": [],
   "source": [
    "model = Perceptron_net(256,10)"
   ]
  },
  {
   "cell_type": "code",
   "execution_count": 131,
   "id": "974d5ee1-0757-42e9-9631-345029699f39",
   "metadata": {},
   "outputs": [
    {
     "name": "stdout",
     "output_type": "stream",
     "text": [
      "CPU times: total: 8.88 s\n",
      "Wall time: 9.17 s\n"
     ]
    }
   ],
   "source": [
    "%%time\n",
    "model.fit(train_in, train_out)"
   ]
  },
  {
   "cell_type": "code",
   "execution_count": 132,
   "id": "d9f52e35-6511-4ed5-947a-975cc6bb3d86",
   "metadata": {},
   "outputs": [
    {
     "data": {
      "text/plain": [
       "1.0"
      ]
     },
     "execution_count": 132,
     "metadata": {},
     "output_type": "execute_result"
    }
   ],
   "source": [
    "out = np.argmax(model.forward(train_in),axis = 1)\n",
    "sq = train_out.squeeze()\n",
    "tmp = np.array(sq == out).astype(int)\n",
    "np.sum(tmp)/tmp.shape[0]\n",
    "# out == train_out[:]"
   ]
  },
  {
   "cell_type": "code",
   "execution_count": 133,
   "id": "a20b1a5d-89b2-4409-b354-96c06134f468",
   "metadata": {},
   "outputs": [],
   "source": [
    "test_in = pd.read_csv('test_in.csv')\n",
    "test_out = pd.read_csv('test_out.csv')"
   ]
  },
  {
   "cell_type": "code",
   "execution_count": 134,
   "id": "39d2df66-a9cb-4a17-952c-d6ff93f729be",
   "metadata": {},
   "outputs": [
    {
     "data": {
      "text/plain": [
       "0.8608608608608609"
      ]
     },
     "execution_count": 134,
     "metadata": {},
     "output_type": "execute_result"
    }
   ],
   "source": [
    "out = np.argmax(model.forward(test_in),axis = 1)\n",
    "sq = test_out.squeeze()\n",
    "tmp = np.array(sq == out).astype(int)\n",
    "np.sum(tmp)/tmp.shape[0]"
   ]
  },
  {
   "cell_type": "code",
   "execution_count": null,
   "id": "cd39ffc1-28bd-446c-b587-7f317f79ad65",
   "metadata": {},
   "outputs": [],
   "source": []
  }
 ],
 "metadata": {
  "kernelspec": {
   "display_name": "Python 3 (ipykernel)",
   "language": "python",
   "name": "python3"
  },
  "language_info": {
   "codemirror_mode": {
    "name": "ipython",
    "version": 3
   },
   "file_extension": ".py",
   "mimetype": "text/x-python",
   "name": "python",
   "nbconvert_exporter": "python",
   "pygments_lexer": "ipython3",
   "version": "3.9.13"
  }
 },
 "nbformat": 4,
 "nbformat_minor": 5
}
